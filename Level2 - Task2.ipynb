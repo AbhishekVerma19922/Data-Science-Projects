{
 "cells": [
  {
   "cell_type": "markdown",
   "id": "e3f5f9e5",
   "metadata": {},
   "source": [
    "# Task: Price Range Analysis\n",
    "\n",
    "Determine the most common price range\n",
    "among all the restaurants.\n",
    "\n",
    "Calculate the average rating for each price\n",
    "range.\n",
    "Identify the color that represents the highest\n",
    "average rating among different price ranges."
   ]
  },
  {
   "cell_type": "markdown",
   "id": "1aa76176",
   "metadata": {},
   "source": [
    "# Step 1: \n",
    "   Load the Dataset"
   ]
  },
  {
   "cell_type": "code",
   "execution_count": 8,
   "id": "6bb44d39",
   "metadata": {},
   "outputs": [],
   "source": [
    "import pandas as pd\n",
    "# Load your cleaned dataset\n",
    "df = pd.read_csv(r\"C:\\Users\\HP\\Downloads\\Dataset_cleaned .csv\")"
   ]
  },
  {
   "cell_type": "markdown",
   "id": "110af0fd",
   "metadata": {},
   "source": [
    "# Step 2: \n",
    "   Check the Columns and Data Structure"
   ]
  },
  {
   "cell_type": "code",
   "execution_count": 3,
   "id": "b39c9e77",
   "metadata": {},
   "outputs": [
    {
     "name": "stdout",
     "output_type": "stream",
     "text": [
      "Index(['Restaurant ID', 'Restaurant Name', 'Country Code', 'City', 'Address',\n",
      "       'Locality', 'Locality Verbose', 'Longitude', 'Latitude', 'Cuisines',\n",
      "       'Average Cost for two', 'Currency', 'Has Table booking',\n",
      "       'Has Online delivery', 'Is delivering now', 'Switch to order menu',\n",
      "       'Price range', 'Aggregate rating', 'Rating color', 'Rating text',\n",
      "       'Votes'],\n",
      "      dtype='object')\n",
      "   Restaurant ID         Restaurant Name  Country Code              City  \\\n",
      "0        6317637        Le Petit Souffle           162       Makati City   \n",
      "1        6304287        Izakaya Kikufuji           162       Makati City   \n",
      "2        6300002  Heat - Edsa Shangri-La           162  Mandaluyong City   \n",
      "3        6318506                    Ooma           162  Mandaluyong City   \n",
      "4        6314302             Sambo Kojin           162  Mandaluyong City   \n",
      "\n",
      "                                             Address  \\\n",
      "0  Third Floor, Century City Mall, Kalayaan Avenu...   \n",
      "1  Little Tokyo, 2277 Chino Roces Avenue, Legaspi...   \n",
      "2  Edsa Shangri-La, 1 Garden Way, Ortigas, Mandal...   \n",
      "3  Third Floor, Mega Fashion Hall, SM Megamall, O...   \n",
      "4  Third Floor, Mega Atrium, SM Megamall, Ortigas...   \n",
      "\n",
      "                                     Locality  \\\n",
      "0   Century City Mall, Poblacion, Makati City   \n",
      "1  Little Tokyo, Legaspi Village, Makati City   \n",
      "2  Edsa Shangri-La, Ortigas, Mandaluyong City   \n",
      "3      SM Megamall, Ortigas, Mandaluyong City   \n",
      "4      SM Megamall, Ortigas, Mandaluyong City   \n",
      "\n",
      "                                    Locality Verbose   Longitude   Latitude  \\\n",
      "0  Century City Mall, Poblacion, Makati City, Mak...  121.027535  14.565443   \n",
      "1  Little Tokyo, Legaspi Village, Makati City, Ma...  121.014101  14.553708   \n",
      "2  Edsa Shangri-La, Ortigas, Mandaluyong City, Ma...  121.056831  14.581404   \n",
      "3  SM Megamall, Ortigas, Mandaluyong City, Mandal...  121.056475  14.585318   \n",
      "4  SM Megamall, Ortigas, Mandaluyong City, Mandal...  121.057508  14.584450   \n",
      "\n",
      "                           Cuisines  ...          Currency Has Table booking  \\\n",
      "0        French, Japanese, Desserts  ...  Botswana Pula(P)               Yes   \n",
      "1                          Japanese  ...  Botswana Pula(P)               Yes   \n",
      "2  Seafood, Asian, Filipino, Indian  ...  Botswana Pula(P)               Yes   \n",
      "3                   Japanese, Sushi  ...  Botswana Pula(P)                No   \n",
      "4                  Japanese, Korean  ...  Botswana Pula(P)               Yes   \n",
      "\n",
      "  Has Online delivery Is delivering now Switch to order menu Price range  \\\n",
      "0                  No                No                   No           3   \n",
      "1                  No                No                   No           3   \n",
      "2                  No                No                   No           4   \n",
      "3                  No                No                   No           4   \n",
      "4                  No                No                   No           4   \n",
      "\n",
      "   Aggregate rating  Rating color Rating text Votes  \n",
      "0               4.8    Dark Green   Excellent   314  \n",
      "1               4.5    Dark Green   Excellent   591  \n",
      "2               4.4         Green   Very Good   270  \n",
      "3               4.9    Dark Green   Excellent   365  \n",
      "4               4.8    Dark Green   Excellent   229  \n",
      "\n",
      "[5 rows x 21 columns]\n"
     ]
    }
   ],
   "source": [
    "# Check the available columns in the dataset\n",
    "print(df.columns)\n",
    "\n",
    "# Display first 5 rows of the dataset to understand the structure\n",
    "print(df.head())"
   ]
  },
  {
   "cell_type": "markdown",
   "id": "ec5f7152",
   "metadata": {},
   "source": [
    "# Step 3: \n",
    "   Find the Most Common Price Range"
   ]
  },
  {
   "cell_type": "code",
   "execution_count": 4,
   "id": "58e0ab6f",
   "metadata": {},
   "outputs": [
    {
     "name": "stdout",
     "output_type": "stream",
     "text": [
      "✅ Most Common Price Range: 1\n"
     ]
    }
   ],
   "source": [
    "# Use mode() to find the most frequent price range\n",
    "most_common_price = df['Price range'].mode()[0]\n",
    "\n",
    "print(\"✅ Most Common Price Range:\", most_common_price)"
   ]
  },
  {
   "cell_type": "markdown",
   "id": "d26f8535",
   "metadata": {},
   "source": [
    "# Step 4: \n",
    "   Calculate the Average Rating for Each Price Range"
   ]
  },
  {
   "cell_type": "code",
   "execution_count": 5,
   "id": "b5cfd502",
   "metadata": {},
   "outputs": [
    {
     "name": "stdout",
     "output_type": "stream",
     "text": [
      "\n",
      "✅ Average Rating for Each Price Range:\n",
      "   Price range  Aggregate rating\n",
      "0            1          1.999887\n",
      "1            2          2.941054\n",
      "2            3          3.683381\n",
      "3            4          3.817918\n"
     ]
    }
   ],
   "source": [
    "# Group by 'Price range' and calculate the mean of 'Aggregate rating'\n",
    "avg_rating = df.groupby('Price range')['Aggregate rating'].mean().reset_index()\n",
    "\n",
    "print(\"\\n✅ Average Rating for Each Price Range:\")\n",
    "print(avg_rating)"
   ]
  },
  {
   "cell_type": "markdown",
   "id": "cecb4348",
   "metadata": {},
   "source": [
    "# Step 5: \n",
    "   Identify the Color with the Highest Average Rating"
   ]
  },
  {
   "cell_type": "code",
   "execution_count": 6,
   "id": "50984a76",
   "metadata": {},
   "outputs": [
    {
     "name": "stdout",
     "output_type": "stream",
     "text": [
      "\n",
      "✅ Color Representing the Highest Average Rating: Dark Green\n"
     ]
    }
   ],
   "source": [
    "# Group by both 'Price range' and 'Rating color' to get more insight\n",
    "rating_color_map = df.groupby(['Price range', 'Rating color'])['Aggregate rating'].mean().reset_index()\n",
    "\n",
    "# Find the row with the highest average rating\n",
    "highest = rating_color_map.loc[rating_color_map['Aggregate rating'].idxmax()]\n",
    "\n",
    "# Extract the color from that row\n",
    "highest_color = highest['Rating color']\n",
    "\n",
    "print(\"\\n✅ Color Representing the Highest Average Rating:\", highest_color)"
   ]
  },
  {
   "cell_type": "markdown",
   "id": "f3d62c29",
   "metadata": {},
   "source": [
    "# Step 6: \n",
    "   Visualize the Result Using a Bar Plot"
   ]
  },
  {
   "cell_type": "code",
   "execution_count": 7,
   "id": "ffa353b1",
   "metadata": {},
   "outputs": [
    {
     "data": {
      "image/png": "[encoded data removed]",
      "text/plain": [
       "<Figure size 800x500 with 1 Axes>"
      ]
     },
     "metadata": {},
     "output_type": "display_data"
    }
   ],
   "source": [
    "import seaborn as sns\n",
    "import matplotlib.pyplot as plt\n",
    "\n",
    "# Create a bar plot for average ratings by price range\n",
    "plt.figure(figsize=(8, 5))\n",
    "sns.barplot(data=avg_rating, x='Price range', y='Aggregate rating', palette='coolwarm')\n",
    "\n",
    "plt.title(\"Average Rating by Price Range\")\n",
    "plt.xlabel(\"Price Range\")\n",
    "plt.ylabel(\"Average Rating\")\n",
    "plt.show()"
   ]
  },
  {
   "cell_type": "markdown",
   "id": "bc72efcb",
   "metadata": {},
   "source": [
    "# ✅ Final Notes:\n",
    "\n",
    "Replace column names if yours are different (e.g., Price Range vs Price range).\n",
    "\n",
    "If you face any errors or want to save the output to a file, I can help with that too."
   ]
  }
 ],
 "metadata": {
  "kernelspec": {
   "display_name": "Python 3 (ipykernel)",
   "language": "python",
   "name": "python3"
  },
  "language_info": {
   "codemirror_mode": {
    "name": "ipython",
    "version": 3
   },
   "file_extension": ".py",
   "mimetype": "text/x-python",
   "name": "python",
   "nbconvert_exporter": "python",
   "pygments_lexer": "ipython3",
   "version": "3.9.13"
  }
 },
 "nbformat": 4,
 "nbformat_minor": 5
}
