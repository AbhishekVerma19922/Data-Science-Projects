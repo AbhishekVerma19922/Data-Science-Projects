{
 "cells": [
  {
   "cell_type": "markdown",
   "id": "df9f1320",
   "metadata": {},
   "source": [
    "# Task: Predictive Modeling\n",
    "\n",
    "Build a regression model to predict the\n",
    "aggregate rating of a restaurant based on\n",
    "available features.\n",
    "Split the dataset into training and testing sets\n",
    "and evaluate the model's performance using\n",
    "appropriate metrics.\n",
    "\n",
    "Experiment with different algorithms (e.g.,\n",
    "linear regression, decision trees, random\n",
    "forest) and compare their performance."
   ]
  },
  {
   "cell_type": "markdown",
   "id": "6402bc02",
   "metadata": {},
   "source": [
    "# Step 1: \n",
    "   Import Required Libraries"
   ]
  },
  {
   "cell_type": "code",
   "execution_count": 21,
   "id": "cb981abe",
   "metadata": {},
   "outputs": [],
   "source": [
    "import pandas as pd\n",
    "import numpy as np\n",
    "import matplotlib.pyplot as plt\n",
    "import seaborn as sns\n",
    "\n",
    "from sklearn.model_selection import train_test_split\n",
    "from sklearn.preprocessing import LabelEncoder\n",
    "\n",
    "from sklearn.linear_model import LinearRegression\n",
    "from sklearn.tree import DecisionTreeRegressor\n",
    "from sklearn.ensemble import RandomForestRegressor\n",
    "\n",
    "from sklearn.metrics import mean_absolute_error, mean_squared_error, r2_score"
   ]
  },
  {
   "cell_type": "markdown",
   "id": "23fb849d",
   "metadata": {},
   "source": [
    "# Step 2: \n",
    "   Load the Dataset"
   ]
  },
  {
   "cell_type": "code",
   "execution_count": 22,
   "id": "834e5c40",
   "metadata": {},
   "outputs": [
    {
     "name": "stdout",
     "output_type": "stream",
     "text": [
      "First 5 rows of the dataset:\n",
      "   Restaurant ID         Restaurant Name  Country Code              City  \\\n",
      "0        6317637        Le Petit Souffle           162       Makati City   \n",
      "1        6304287        Izakaya Kikufuji           162       Makati City   \n",
      "2        6300002  Heat - Edsa Shangri-La           162  Mandaluyong City   \n",
      "3        6318506                    Ooma           162  Mandaluyong City   \n",
      "4        6314302             Sambo Kojin           162  Mandaluyong City   \n",
      "\n",
      "                                             Address  \\\n",
      "0  Third Floor, Century City Mall, Kalayaan Avenu...   \n",
      "1  Little Tokyo, 2277 Chino Roces Avenue, Legaspi...   \n",
      "2  Edsa Shangri-La, 1 Garden Way, Ortigas, Mandal...   \n",
      "3  Third Floor, Mega Fashion Hall, SM Megamall, O...   \n",
      "4  Third Floor, Mega Atrium, SM Megamall, Ortigas...   \n",
      "\n",
      "                                     Locality  \\\n",
      "0   Century City Mall, Poblacion, Makati City   \n",
      "1  Little Tokyo, Legaspi Village, Makati City   \n",
      "2  Edsa Shangri-La, Ortigas, Mandaluyong City   \n",
      "3      SM Megamall, Ortigas, Mandaluyong City   \n",
      "4      SM Megamall, Ortigas, Mandaluyong City   \n",
      "\n",
      "                                    Locality Verbose   Longitude   Latitude  \\\n",
      "0  Century City Mall, Poblacion, Makati City, Mak...  121.027535  14.565443   \n",
      "1  Little Tokyo, Legaspi Village, Makati City, Ma...  121.014101  14.553708   \n",
      "2  Edsa Shangri-La, Ortigas, Mandaluyong City, Ma...  121.056831  14.581404   \n",
      "3  SM Megamall, Ortigas, Mandaluyong City, Mandal...  121.056475  14.585318   \n",
      "4  SM Megamall, Ortigas, Mandaluyong City, Mandal...  121.057508  14.584450   \n",
      "\n",
      "                           Cuisines  ...          Currency Has Table booking  \\\n",
      "0        French, Japanese, Desserts  ...  Botswana Pula(P)               Yes   \n",
      "1                          Japanese  ...  Botswana Pula(P)               Yes   \n",
      "2  Seafood, Asian, Filipino, Indian  ...  Botswana Pula(P)               Yes   \n",
      "3                   Japanese, Sushi  ...  Botswana Pula(P)                No   \n",
      "4                  Japanese, Korean  ...  Botswana Pula(P)               Yes   \n",
      "\n",
      "  Has Online delivery Is delivering now Switch to order menu Price range  \\\n",
      "0                  No                No                   No           3   \n",
      "1                  No                No                   No           3   \n",
      "2                  No                No                   No           4   \n",
      "3                  No                No                   No           4   \n",
      "4                  No                No                   No           4   \n",
      "\n",
      "   Aggregate rating  Rating color Rating text Votes  \n",
      "0               4.8    Dark Green   Excellent   314  \n",
      "1               4.5    Dark Green   Excellent   591  \n",
      "2               4.4         Green   Very Good   270  \n",
      "3               4.9    Dark Green   Excellent   365  \n",
      "4               4.8    Dark Green   Excellent   229  \n",
      "\n",
      "[5 rows x 21 columns]\n"
     ]
    }
   ],
   "source": [
    "# Load the CSV file\n",
    "df = pd.read_csv(r\"C:\\Users\\HP\\Downloads\\Dataset_cleaned .csv\")\n",
    "\n",
    "# Display first few rows\n",
    "print(\"First 5 rows of the dataset:\")\n",
    "print(df.head())"
   ]
  },
  {
   "cell_type": "markdown",
   "id": "689caa51",
   "metadata": {},
   "source": [
    "# Step 3: \n",
    "   Check for Missing Values"
   ]
  },
  {
   "cell_type": "code",
   "execution_count": 23,
   "id": "e8244832",
   "metadata": {},
   "outputs": [
    {
     "name": "stdout",
     "output_type": "stream",
     "text": [
      "\n",
      "Missing values in each column:\n",
      "Restaurant ID           0\n",
      "Restaurant Name         0\n",
      "Country Code            0\n",
      "City                    0\n",
      "Address                 0\n",
      "Locality                0\n",
      "Locality Verbose        0\n",
      "Longitude               0\n",
      "Latitude                0\n",
      "Cuisines                0\n",
      "Average Cost for two    0\n",
      "Currency                0\n",
      "Has Table booking       0\n",
      "Has Online delivery     0\n",
      "Is delivering now       0\n",
      "Switch to order menu    0\n",
      "Price range             0\n",
      "Aggregate rating        0\n",
      "Rating color            0\n",
      "Rating text             0\n",
      "Votes                   0\n",
      "dtype: int64\n"
     ]
    }
   ],
   "source": [
    "print(\"\\nMissing values in each column:\")\n",
    "print(df.isnull().sum())"
   ]
  },
  {
   "cell_type": "markdown",
   "id": "9dcb59a7",
   "metadata": {},
   "source": [
    "# Step 4: \n",
    "   Encode Categorical Features"
   ]
  },
  {
   "cell_type": "code",
   "execution_count": 24,
   "id": "752d5d6f",
   "metadata": {},
   "outputs": [
    {
     "name": "stdout",
     "output_type": "stream",
     "text": [
      "   Restaurant ID  Restaurant Name  Country Code  City  Address  Locality  \\\n",
      "0        6317637             3748           162    73     8685       171   \n",
      "1        6304287             3172           162    73     6055       593   \n",
      "2        6300002             2896           162    75     4684       308   \n",
      "3        6318506             4707           162    75     8690       862   \n",
      "4        6314302             5523           162    75     8689       862   \n",
      "\n",
      "   Locality Verbose   Longitude   Latitude  Cuisines  ...  Currency  \\\n",
      "0               172  121.027535  14.565443       920  ...         0   \n",
      "1               601  121.014101  14.553708      1111  ...         0   \n",
      "2               314  121.056831  14.581404      1671  ...         0   \n",
      "3               875  121.056475  14.585318      1126  ...         0   \n",
      "4               875  121.057508  14.584450      1122  ...         0   \n",
      "\n",
      "   Has Table booking  Has Online delivery  Is delivering now  \\\n",
      "0                  1                    0                  0   \n",
      "1                  1                    0                  0   \n",
      "2                  1                    0                  0   \n",
      "3                  0                    0                  0   \n",
      "4                  1                    0                  0   \n",
      "\n",
      "   Switch to order menu  Price range  Aggregate rating  Rating color  \\\n",
      "0                     0            3               4.8             0   \n",
      "1                     0            3               4.5             0   \n",
      "2                     0            4               4.4             1   \n",
      "3                     0            4               4.9             0   \n",
      "4                     0            4               4.8             0   \n",
      "\n",
      "   Rating text  Votes  \n",
      "0            1    314  \n",
      "1            1    591  \n",
      "2            5    270  \n",
      "3            1    365  \n",
      "4            1    229  \n",
      "\n",
      "[5 rows x 21 columns]\n"
     ]
    }
   ],
   "source": [
    "import pandas as pd\n",
    "from sklearn.preprocessing import LabelEncoder\n",
    "\n",
    "# Step 1: Load the dataset\n",
    "df = pd.read_csv(r\"C:\\Users\\HP\\Downloads\\Dataset_cleaned .csv\")\n",
    "\n",
    "# Step 2: Encode categorical variables\n",
    "le = LabelEncoder()\n",
    "categorical_cols = df.select_dtypes(include='object').columns\n",
    "\n",
    "for col in categorical_cols:\n",
    "    df[col] = le.fit_transform(df[col])\n",
    "\n",
    "# Preview the encoded data\n",
    "print(df.head())\n"
   ]
  },
  {
   "cell_type": "markdown",
   "id": "2bebc9b4",
   "metadata": {},
   "source": [
    "# Step 5: \n",
    "   Define Features and Target"
   ]
  },
  {
   "cell_type": "code",
   "execution_count": 25,
   "id": "4a9a9f66",
   "metadata": {},
   "outputs": [
    {
     "name": "stdout",
     "output_type": "stream",
     "text": [
      "✅ Dataset loaded successfully!\n",
      "✅ Categorical columns encoded successfully!\n",
      "\n",
      "🧾 Column names in dataset:\n",
      " ['Restaurant ID', 'Restaurant Name', 'Country Code', 'City', 'Address', 'Locality', 'Locality Verbose', 'Longitude', 'Latitude', 'Cuisines', 'Average Cost for two', 'Currency', 'Has Table booking', 'Has Online delivery', 'Is delivering now', 'Switch to order menu', 'Price range', 'Aggregate rating', 'Rating color', 'Rating text', 'Votes']\n",
      "\n",
      "✅ Features and target variable split successfully!\n"
     ]
    }
   ],
   "source": [
    "# Step 1: Import required libraries\n",
    "import pandas as pd\n",
    "from sklearn.preprocessing import LabelEncoder\n",
    "\n",
    "# Step 2: Load the dataset\n",
    "df = pd.read_csv(r\"C:\\Users\\HP\\Downloads\\Dataset_cleaned .csv\")\n",
    "print(\"✅ Dataset loaded successfully!\")\n",
    "\n",
    "# Step 3: Encode categorical columns\n",
    "le = LabelEncoder()\n",
    "categorical_cols = df.select_dtypes(include='object').columns\n",
    "\n",
    "for col in categorical_cols:\n",
    "    df[col] = le.fit_transform(df[col])\n",
    "\n",
    "print(\"✅ Categorical columns encoded successfully!\")\n",
    "\n",
    "# Step 4: Show all column names\n",
    "print(\"\\n🧾 Column names in dataset:\\n\", df.columns.tolist())\n",
    "\n",
    "# Step 5: Split features (X) and target (y)\n",
    "# Make sure the column name is exactly correct\n",
    "target_col = 'Aggregate rating'\n",
    "\n",
    "if target_col in df.columns:\n",
    "    X = df.drop(target_col, axis=1)\n",
    "    y = df[target_col]\n",
    "    print(\"\\n✅ Features and target variable split successfully!\")\n",
    "else:\n",
    "    print(f\"\\n❌ Column '{target_col}' not found. Please check for typos.\")\n"
   ]
  },
  {
   "cell_type": "markdown",
   "id": "f15819c5",
   "metadata": {},
   "source": [
    "# Step 6: \n",
    "   Partition the Data (Train-Test Split)"
   ]
  },
  {
   "cell_type": "code",
   "execution_count": 26,
   "id": "aa3abcef",
   "metadata": {},
   "outputs": [
    {
     "name": "stdout",
     "output_type": "stream",
     "text": [
      "✅ Data split completed!\n",
      "Training Features: (7640, 20)\n",
      "Testing Features : (1911, 20)\n",
      "Training Target  : (7640,)\n",
      "Testing Target   : (1911,)\n"
     ]
    }
   ],
   "source": [
    "# Step 1: Import the function\n",
    "from sklearn.model_selection import train_test_split\n",
    "\n",
    "# Step 2: Split into training and testing sets\n",
    "X_train, X_test, y_train, y_test = train_test_split(\n",
    "    X, y, test_size=0.2, random_state=42\n",
    ")\n",
    "\n",
    "# Step 3: Check the shape of the splits\n",
    "print(\"✅ Data split completed!\")\n",
    "print(\"Training Features:\", X_train.shape)\n",
    "print(\"Testing Features :\", X_test.shape)\n",
    "print(\"Training Target  :\", y_train.shape)\n",
    "print(\"Testing Target   :\", y_test.shape)\n"
   ]
  },
  {
   "cell_type": "markdown",
   "id": "d4c49c09",
   "metadata": {},
   "source": [
    "# Step 7: \n",
    "   Train Multiple Models"
   ]
  },
  {
   "cell_type": "markdown",
   "id": "346b8783",
   "metadata": {},
   "source": [
    "Linear Regression"
   ]
  },
  {
   "cell_type": "code",
   "execution_count": 27,
   "id": "2ad24767",
   "metadata": {},
   "outputs": [
    {
     "name": "stdout",
     "output_type": "stream",
     "text": [
      "✅ Linear Regression model trained and predictions made!\n"
     ]
    }
   ],
   "source": [
    "# Step 1: Import the model\n",
    "from sklearn.linear_model import LinearRegression\n",
    "\n",
    "# Step 2: Initialize and train the model\n",
    "lr_model = LinearRegression()\n",
    "lr_model.fit(X_train, y_train)\n",
    "\n",
    "# Step 3: Make predictions\n",
    "lr_preds = lr_model.predict(X_test)\n",
    "\n",
    "print(\"✅ Linear Regression model trained and predictions made!\")\n"
   ]
  },
  {
   "cell_type": "markdown",
   "id": "c046e2ba",
   "metadata": {},
   "source": [
    "Decision Tree Regressor"
   ]
  },
  {
   "cell_type": "code",
   "execution_count": 28,
   "id": "20160ad5",
   "metadata": {},
   "outputs": [
    {
     "name": "stdout",
     "output_type": "stream",
     "text": [
      "✅ Decision Tree model trained and predictions made!\n"
     ]
    }
   ],
   "source": [
    "# Step 1: Import the model\n",
    "from sklearn.tree import DecisionTreeRegressor\n",
    "\n",
    "# Step 2: Initialize and train the model\n",
    "dt_model = DecisionTreeRegressor(random_state=42)\n",
    "dt_model.fit(X_train, y_train)\n",
    "\n",
    "# Step 3: Make predictions\n",
    "dt_preds = dt_model.predict(X_test)\n",
    "\n",
    "print(\"✅ Decision Tree model trained and predictions made!\")"
   ]
  },
  {
   "cell_type": "markdown",
   "id": "e00983e4",
   "metadata": {},
   "source": [
    "# Random Forest Regressor"
   ]
  },
  {
   "cell_type": "code",
   "execution_count": 29,
   "id": "dcbdf0de",
   "metadata": {},
   "outputs": [
    {
     "name": "stdout",
     "output_type": "stream",
     "text": [
      "✅ Random Forest model trained and predictions made!\n"
     ]
    }
   ],
   "source": [
    "# Step 1: Import the model\n",
    "from sklearn.ensemble import RandomForestRegressor\n",
    "\n",
    "# Step 2: Initialize and train the model\n",
    "rf_model = RandomForestRegressor(n_estimators=100, random_state=42)\n",
    "rf_model.fit(X_train, y_train)\n",
    "\n",
    "# Step 3: Make predictions\n",
    "rf_preds = rf_model.predict(X_test)\n",
    "\n",
    "print(\"✅ Random Forest model trained and predictions made!\")"
   ]
  },
  {
   "cell_type": "markdown",
   "id": "0ce7e38a",
   "metadata": {},
   "source": [
    "# Step 8: \n",
    "   Evaluate the Models"
   ]
  },
  {
   "cell_type": "code",
   "execution_count": 30,
   "id": "5389be3a",
   "metadata": {},
   "outputs": [
    {
     "name": "stdout",
     "output_type": "stream",
     "text": [
      "\n",
      "Linear Regression Performance:\n",
      "MAE : 0.923\n",
      "MSE : 1.219\n",
      "RMSE: 1.104\n",
      "R2  : 0.465\n",
      "\n",
      "Decision Tree Performance:\n",
      "MAE : 0.151\n",
      "MSE : 0.057\n",
      "RMSE: 0.239\n",
      "R2  : 0.975\n",
      "\n",
      "Random Forest Performance:\n",
      "MAE : 0.113\n",
      "MSE : 0.027\n",
      "RMSE: 0.165\n",
      "R2  : 0.988\n"
     ]
    }
   ],
   "source": [
    "# Step 1: Import necessary libraries\n",
    "import numpy as np\n",
    "from sklearn.metrics import mean_absolute_error, mean_squared_error, r2_score\n",
    "\n",
    "# Step 2: Define the evaluation function\n",
    "def evaluate_model(name, y_true, y_pred):\n",
    "    print(f\"\\n{name} Performance:\")\n",
    "    print(\"MAE :\", round(mean_absolute_error(y_true, y_pred), 3))\n",
    "    print(\"MSE :\", round(mean_squared_error(y_true, y_pred), 3))\n",
    "    print(\"RMSE:\", round(np.sqrt(mean_squared_error(y_true, y_pred)), 3))\n",
    "    print(\"R2  :\", round(r2_score(y_true, y_pred), 3))\n",
    "\n",
    "# Step 3: Evaluate all models\n",
    "evaluate_model(\"Linear Regression\", y_test, lr_preds)\n",
    "evaluate_model(\"Decision Tree\", y_test, dt_preds)\n",
    "evaluate_model(\"Random Forest\", y_test, rf_preds)"
   ]
  },
  {
   "cell_type": "markdown",
   "id": "a5ab15ae",
   "metadata": {},
   "source": [
    "# Step 9: \n",
    "   Plot Feature Importance (Random Forest)"
   ]
  },
  {
   "cell_type": "code",
   "execution_count": 31,
   "id": "c0a936e3",
   "metadata": {},
   "outputs": [
    {
     "data": {
      "image/png": "[encoded data removed]",
      "text/plain": [
       "<Figure size 1000x600 with 1 Axes>"
      ]
     },
     "metadata": {},
     "output_type": "display_data"
    }
   ],
   "source": [
    "# Step 1: Import necessary libraries\n",
    "import matplotlib.pyplot as plt\n",
    "import seaborn as sns\n",
    "\n",
    "# Step 2: Extract feature importances from the Random Forest model\n",
    "feat_imp = pd.Series(rf_model.feature_importances_, index=X_train.columns)\n",
    "\n",
    "# Step 3: Plot top 10 feature importances\n",
    "plt.figure(figsize=(10, 6))\n",
    "sns.barplot(x=feat_imp[:10], y=feat_imp.index[:10])\n",
    "plt.title(\"Top 10 Feature Importances (Random Forest)\")\n",
    "plt.show()"
   ]
  },
  {
   "cell_type": "markdown",
   "id": "3dbef53e",
   "metadata": {},
   "source": [
    "# 🎯 Conclusion:\n",
    "\n",
    "You now have:\n",
    "\n",
    "A cleaned and encoded dataset\n",
    "\n",
    "Data split into training and testing sets\n",
    "\n",
    "Three different regression models trained and compared\n",
    "\n",
    "Proper evaluation using MAE, MSE, RMSE, R²\n",
    "\n",
    "Visual insight into the most important features"
   ]
  }
 ],
 "metadata": {
  "kernelspec": {
   "display_name": "Python 3 (ipykernel)",
   "language": "python",
   "name": "python3"
  },
  "language_info": {
   "codemirror_mode": {
    "name": "ipython",
    "version": 3
   },
   "file_extension": ".py",
   "mimetype": "text/x-python",
   "name": "python",
   "nbconvert_exporter": "python",
   "pygments_lexer": "ipython3",
   "version": "3.9.13"
  }
 },
 "nbformat": 4,
 "nbformat_minor": 5
}
