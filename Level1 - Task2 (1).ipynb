{
 "cells": [
  {
   "cell_type": "markdown",
   "id": "815104ba",
   "metadata": {},
   "source": [
    "# Task: Descriptive Analysis\n",
    "\n",
    "Calculate basic statistical measures (mean,\n",
    "median, standard deviation, etc.) for numerical\n",
    "columns.\n",
    "\n",
    "Explore the distribution of categorical\n",
    "variables like \"Country Code,\n",
    "\n",
    "\" \"City,\n",
    "\n",
    "\" and\n",
    "\n",
    "\"Cuisines.\n",
    "\"\n",
    "\n",
    "Identify the top cuisines and cities with the\n",
    "highest number of restaurants."
   ]
  },
  {
   "cell_type": "markdown",
   "id": "0e5529f4",
   "metadata": {},
   "source": [
    "# Step 1: \n",
    "   Import Required Libraries"
   ]
  },
  {
   "cell_type": "code",
   "execution_count": 20,
   "id": "4c28ea0f",
   "metadata": {},
   "outputs": [],
   "source": [
    "import pandas as pd\n",
    "import matplotlib.pyplot as plt\n",
    "import seaborn as sns"
   ]
  },
  {
   "cell_type": "markdown",
   "id": "3a2f4527",
   "metadata": {},
   "source": [
    " Set seaborn style for better visuals"
   ]
  },
  {
   "cell_type": "code",
   "execution_count": 47,
   "id": "7777b1a7",
   "metadata": {},
   "outputs": [],
   "source": [
    "sns.set(style=\"whitegrid\")"
   ]
  },
  {
   "cell_type": "markdown",
   "id": "d8e2462e",
   "metadata": {},
   "source": [
    " # Step 2: \n",
    " Load the Dataset"
   ]
  },
  {
   "cell_type": "code",
   "execution_count": 23,
   "id": "ec0ae2bf",
   "metadata": {},
   "outputs": [],
   "source": [
    "file_path = r\"C:\\Users\\HP\\Downloads\\Dataset .csv\""
   ]
  },
  {
   "cell_type": "markdown",
   "id": "7973cee2",
   "metadata": {},
   "source": [
    "Read the CSV file\n"
   ]
  },
  {
   "cell_type": "code",
   "execution_count": 26,
   "id": "80a39f7b",
   "metadata": {},
   "outputs": [],
   "source": [
    "df = pd.read_csv(file_path)"
   ]
  },
  {
   "cell_type": "markdown",
   "id": "8737f02d",
   "metadata": {},
   "source": [
    "Display first few rows to understand the structure"
   ]
  },
  {
   "cell_type": "code",
   "execution_count": 28,
   "id": "c553e2ae",
   "metadata": {},
   "outputs": [
    {
     "name": "stdout",
     "output_type": "stream",
     "text": [
      "First 5 rows of the dataset:\n",
      "   Restaurant ID         Restaurant Name  Country Code              City  \\\n",
      "0        6317637        Le Petit Souffle           162       Makati City   \n",
      "1        6304287        Izakaya Kikufuji           162       Makati City   \n",
      "2        6300002  Heat - Edsa Shangri-La           162  Mandaluyong City   \n",
      "3        6318506                    Ooma           162  Mandaluyong City   \n",
      "4        6314302             Sambo Kojin           162  Mandaluyong City   \n",
      "\n",
      "                                             Address  \\\n",
      "0  Third Floor, Century City Mall, Kalayaan Avenu...   \n",
      "1  Little Tokyo, 2277 Chino Roces Avenue, Legaspi...   \n",
      "2  Edsa Shangri-La, 1 Garden Way, Ortigas, Mandal...   \n",
      "3  Third Floor, Mega Fashion Hall, SM Megamall, O...   \n",
      "4  Third Floor, Mega Atrium, SM Megamall, Ortigas...   \n",
      "\n",
      "                                     Locality  \\\n",
      "0   Century City Mall, Poblacion, Makati City   \n",
      "1  Little Tokyo, Legaspi Village, Makati City   \n",
      "2  Edsa Shangri-La, Ortigas, Mandaluyong City   \n",
      "3      SM Megamall, Ortigas, Mandaluyong City   \n",
      "4      SM Megamall, Ortigas, Mandaluyong City   \n",
      "\n",
      "                                    Locality Verbose   Longitude   Latitude  \\\n",
      "0  Century City Mall, Poblacion, Makati City, Mak...  121.027535  14.565443   \n",
      "1  Little Tokyo, Legaspi Village, Makati City, Ma...  121.014101  14.553708   \n",
      "2  Edsa Shangri-La, Ortigas, Mandaluyong City, Ma...  121.056831  14.581404   \n",
      "3  SM Megamall, Ortigas, Mandaluyong City, Mandal...  121.056475  14.585318   \n",
      "4  SM Megamall, Ortigas, Mandaluyong City, Mandal...  121.057508  14.584450   \n",
      "\n",
      "                           Cuisines  ...          Currency Has Table booking  \\\n",
      "0        French, Japanese, Desserts  ...  Botswana Pula(P)               Yes   \n",
      "1                          Japanese  ...  Botswana Pula(P)               Yes   \n",
      "2  Seafood, Asian, Filipino, Indian  ...  Botswana Pula(P)               Yes   \n",
      "3                   Japanese, Sushi  ...  Botswana Pula(P)                No   \n",
      "4                  Japanese, Korean  ...  Botswana Pula(P)               Yes   \n",
      "\n",
      "  Has Online delivery Is delivering now Switch to order menu Price range  \\\n",
      "0                  No                No                   No           3   \n",
      "1                  No                No                   No           3   \n",
      "2                  No                No                   No           4   \n",
      "3                  No                No                   No           4   \n",
      "4                  No                No                   No           4   \n",
      "\n",
      "   Aggregate rating  Rating color Rating text Votes  \n",
      "0               4.8    Dark Green   Excellent   314  \n",
      "1               4.5    Dark Green   Excellent   591  \n",
      "2               4.4         Green   Very Good   270  \n",
      "3               4.9    Dark Green   Excellent   365  \n",
      "4               4.8    Dark Green   Excellent   229  \n",
      "\n",
      "[5 rows x 21 columns]\n"
     ]
    }
   ],
   "source": [
    "print(\"First 5 rows of the dataset:\")\n",
    "print(df.head())"
   ]
  },
  {
   "cell_type": "markdown",
   "id": "4f6e8390",
   "metadata": {},
   "source": [
    " # Step 3: \n",
    " Basic Statistical Measures (Mean, Median, Std Dev)"
   ]
  },
  {
   "cell_type": "code",
   "execution_count": 29,
   "id": "0bb521be",
   "metadata": {},
   "outputs": [
    {
     "name": "stdout",
     "output_type": "stream",
     "text": [
      "\n",
      "🔹 Basic Statistical Summary for Numerical Columns:\n",
      "       Restaurant ID  Country Code    Longitude     Latitude  \\\n",
      "count   9.551000e+03   9551.000000  9551.000000  9551.000000   \n",
      "mean    9.051128e+06     18.365616    64.126574    25.854381   \n",
      "std     8.791521e+06     56.750546    41.467058    11.007935   \n",
      "min     5.300000e+01      1.000000  -157.948486   -41.330428   \n",
      "25%     3.019625e+05      1.000000    77.081343    28.478713   \n",
      "50%     6.004089e+06      1.000000    77.191964    28.570469   \n",
      "75%     1.835229e+07      1.000000    77.282006    28.642758   \n",
      "max     1.850065e+07    216.000000   174.832089    55.976980   \n",
      "\n",
      "       Average Cost for two  Price range  Aggregate rating         Votes  \n",
      "count           9551.000000  9551.000000       9551.000000   9551.000000  \n",
      "mean            1199.210763     1.804837          2.666370    156.909748  \n",
      "std            16121.183073     0.905609          1.516378    430.169145  \n",
      "min                0.000000     1.000000          0.000000      0.000000  \n",
      "25%              250.000000     1.000000          2.500000      5.000000  \n",
      "50%              400.000000     2.000000          3.200000     31.000000  \n",
      "75%              700.000000     2.000000          3.700000    131.000000  \n",
      "max           800000.000000     4.000000          4.900000  10934.000000  \n"
     ]
    }
   ],
   "source": [
    "print(\"\\n🔹 Basic Statistical Summary for Numerical Columns:\")\n",
    "print(df.describe())"
   ]
  },
  {
   "cell_type": "code",
   "execution_count": 30,
   "id": "9533d5a6",
   "metadata": {},
   "outputs": [
    {
     "name": "stdout",
     "output_type": "stream",
     "text": [
      "\n",
      "🔹 Mean Values:\n",
      "Restaurant ID           9.051128e+06\n",
      "Country Code            1.836562e+01\n",
      "Longitude               6.412657e+01\n",
      "Latitude                2.585438e+01\n",
      "Average Cost for two    1.199211e+03\n",
      "Price range             1.804837e+00\n",
      "Aggregate rating        2.666370e+00\n",
      "Votes                   1.569097e+02\n",
      "dtype: float64\n"
     ]
    }
   ],
   "source": [
    "print(\"\\n🔹 Mean Values:\")\n",
    "print(df.mean(numeric_only=True))"
   ]
  },
  {
   "cell_type": "code",
   "execution_count": 31,
   "id": "61fb3c74",
   "metadata": {},
   "outputs": [
    {
     "name": "stdout",
     "output_type": "stream",
     "text": [
      "\n",
      "🔹 Median Values:\n",
      "Restaurant ID           6.004089e+06\n",
      "Country Code            1.000000e+00\n",
      "Longitude               7.719196e+01\n",
      "Latitude                2.857047e+01\n",
      "Average Cost for two    4.000000e+02\n",
      "Price range             2.000000e+00\n",
      "Aggregate rating        3.200000e+00\n",
      "Votes                   3.100000e+01\n",
      "dtype: float64\n"
     ]
    }
   ],
   "source": [
    "print(\"\\n🔹 Median Values:\")\n",
    "print(df.median(numeric_only=True))"
   ]
  },
  {
   "cell_type": "code",
   "execution_count": 32,
   "id": "e5387840",
   "metadata": {},
   "outputs": [
    {
     "name": "stdout",
     "output_type": "stream",
     "text": [
      "\n",
      "🔹 Standard Deviation:\n",
      "Restaurant ID           8.791521e+06\n",
      "Country Code            5.675055e+01\n",
      "Longitude               4.146706e+01\n",
      "Latitude                1.100794e+01\n",
      "Average Cost for two    1.612118e+04\n",
      "Price range             9.056088e-01\n",
      "Aggregate rating        1.516378e+00\n",
      "Votes                   4.301691e+02\n",
      "dtype: float64\n"
     ]
    }
   ],
   "source": [
    "print(\"\\n🔹 Standard Deviation:\")\n",
    "print(df.std(numeric_only=True))"
   ]
  },
  {
   "cell_type": "markdown",
   "id": "b17d43ae",
   "metadata": {},
   "source": [
    "# Step 4:\n",
    "Explore Categorical Variables"
   ]
  },
  {
   "cell_type": "markdown",
   "id": "3fdfb026",
   "metadata": {},
   "source": [
    "a. Unique values in key columns"
   ]
  },
  {
   "cell_type": "code",
   "execution_count": 33,
   "id": "9c70b312",
   "metadata": {},
   "outputs": [
    {
     "name": "stdout",
     "output_type": "stream",
     "text": [
      "\n",
      "🔹 Unique values in categorical columns:\n",
      "Number of unique 'Country Code': 15\n",
      "Number of unique 'City': 141\n",
      "Number of unique 'Cuisines': 1825\n"
     ]
    }
   ],
   "source": [
    "print(\"\\n🔹 Unique values in categorical columns:\")\n",
    "print(f\"Number of unique 'Country Code': {df['Country Code'].nunique()}\")\n",
    "print(f\"Number of unique 'City': {df['City'].nunique()}\")\n",
    "print(f\"Number of unique 'Cuisines': {df['Cuisines'].nunique()}\")"
   ]
  },
  {
   "cell_type": "markdown",
   "id": "661456a7",
   "metadata": {},
   "source": [
    "b. Frequency of top entries"
   ]
  },
  {
   "cell_type": "code",
   "execution_count": 34,
   "id": "65a57859",
   "metadata": {},
   "outputs": [
    {
     "name": "stdout",
     "output_type": "stream",
     "text": [
      "\n",
      "🔹 Top 5 Country Codes by frequency:\n",
      "1      8652\n",
      "216     434\n",
      "215      80\n",
      "30       60\n",
      "214      60\n",
      "Name: Country Code, dtype: int64\n"
     ]
    }
   ],
   "source": [
    "print(\"\\n🔹 Top 5 Country Codes by frequency:\")\n",
    "print(df['Country Code'].value_counts().head())"
   ]
  },
  {
   "cell_type": "code",
   "execution_count": 35,
   "id": "40f6b066",
   "metadata": {},
   "outputs": [
    {
     "name": "stdout",
     "output_type": "stream",
     "text": [
      "\n",
      "🔹 Top 5 Cities by number of restaurants:\n",
      "New Delhi    5473\n",
      "Gurgaon      1118\n",
      "Noida        1080\n",
      "Faridabad     251\n",
      "Ghaziabad      25\n",
      "Name: City, dtype: int64\n"
     ]
    }
   ],
   "source": [
    "print(\"\\n🔹 Top 5 Cities by number of restaurants:\")\n",
    "print(df['City'].value_counts().head())"
   ]
  },
  {
   "cell_type": "code",
   "execution_count": 36,
   "id": "3d7e0800",
   "metadata": {},
   "outputs": [
    {
     "name": "stdout",
     "output_type": "stream",
     "text": [
      "\n",
      "🔹 Top 5 Cuisines offered:\n",
      "North Indian             936\n",
      "North Indian, Chinese    511\n",
      "Chinese                  354\n",
      "Fast Food                354\n",
      "North Indian, Mughlai    334\n",
      "Name: Cuisines, dtype: int64\n"
     ]
    }
   ],
   "source": [
    "print(\"\\n🔹 Top 5 Cuisines offered:\")\n",
    "print(df['Cuisines'].value_counts().head())"
   ]
  },
  {
   "cell_type": "markdown",
   "id": "a6d7fb5b",
   "metadata": {},
   "source": [
    "# Step 5:\n",
    "Visualizations"
   ]
  },
  {
   "cell_type": "markdown",
   "id": "ffc9ba7b",
   "metadata": {},
   "source": [
    "a. Top 10 Cities by Restaurant Count"
   ]
  },
  {
   "cell_type": "code",
   "execution_count": 43,
   "id": "75c2b5b4",
   "metadata": {},
   "outputs": [
    {
     "name": "stderr",
     "output_type": "stream",
     "text": [
      "C:\\Users\\HP\\AppData\\Local\\Temp\\ipykernel_15548\\2600018454.py:7: UserWarning: Glyph 127961 (\\N{CITYSCAPE}) missing from current font.\n",
      "  plt.tight_layout()\n",
      "C:\\Users\\HP\\AppData\\Local\\Temp\\ipykernel_15548\\2600018454.py:7: UserWarning: Glyph 65039 (\\N{VARIATION SELECTOR-16}) missing from current font.\n",
      "  plt.tight_layout()\n",
      "C:\\Users\\HP\\anaconda3\\lib\\site-packages\\IPython\\core\\pylabtools.py:151: UserWarning: Glyph 127961 (\\N{CITYSCAPE}) missing from current font.\n",
      "  fig.canvas.print_figure(bytes_io, **kw)\n",
      "C:\\Users\\HP\\anaconda3\\lib\\site-packages\\IPython\\core\\pylabtools.py:151: UserWarning: Glyph 65039 (\\N{VARIATION SELECTOR-16}) missing from current font.\n",
      "  fig.canvas.print_figure(bytes_io, **kw)\n"
     ]
    },
    {
     "data": {
      "image/png": "[encoded data removed]",
      "text/plain": [
       "<Figure size 1000x600 with 1 Axes>"
      ]
     },
     "metadata": {},
     "output_type": "display_data"
    }
   ],
   "source": [
    "top_cities = df['City'].value_counts().head(10)\n",
    "plt.figure(figsize=(10, 6))\n",
    "sns.barplot(x=top_cities.values, y=top_cities.index, palette=\"viridis\")\n",
    "plt.title(\"🏙️ Top 10 Cities by Number of Restaurants\", fontsize=12)\n",
    "plt.xlabel(\"Number of Restaurants\")\n",
    "plt.ylabel(\"City\")\n",
    "plt.tight_layout()\n",
    "plt.show()"
   ]
  },
  {
   "cell_type": "markdown",
   "id": "c9c83b46",
   "metadata": {},
   "source": [
    "b. Top 10 Cuisines Offered"
   ]
  },
  {
   "cell_type": "code",
   "execution_count": 42,
   "id": "ab3f26b0",
   "metadata": {},
   "outputs": [
    {
     "name": "stderr",
     "output_type": "stream",
     "text": [
      "C:\\Users\\HP\\AppData\\Local\\Temp\\ipykernel_15548\\1750641791.py:7: UserWarning: Glyph 127869 (\\N{FORK AND KNIFE WITH PLATE}) missing from current font.\n",
      "  plt.tight_layout()\n",
      "C:\\Users\\HP\\AppData\\Local\\Temp\\ipykernel_15548\\1750641791.py:7: UserWarning: Glyph 65039 (\\N{VARIATION SELECTOR-16}) missing from current font.\n",
      "  plt.tight_layout()\n",
      "C:\\Users\\HP\\anaconda3\\lib\\site-packages\\IPython\\core\\pylabtools.py:151: UserWarning: Glyph 127869 (\\N{FORK AND KNIFE WITH PLATE}) missing from current font.\n",
      "  fig.canvas.print_figure(bytes_io, **kw)\n",
      "C:\\Users\\HP\\anaconda3\\lib\\site-packages\\IPython\\core\\pylabtools.py:151: UserWarning: Glyph 65039 (\\N{VARIATION SELECTOR-16}) missing from current font.\n",
      "  fig.canvas.print_figure(bytes_io, **kw)\n"
     ]
    },
    {
     "data": {
      "image/png": "[encoded data removed]",
      "text/plain": [
       "<Figure size 1000x600 with 1 Axes>"
      ]
     },
     "metadata": {},
     "output_type": "display_data"
    }
   ],
   "source": [
    "top_cuisines = df['Cuisines'].value_counts().head(10)\n",
    "plt.figure(figsize=(10, 6))\n",
    "sns.barplot(x=top_cuisines.values, y=top_cuisines.index, palette=\"magma\")\n",
    "plt.title(\"🍽️ Top 10 Cuisines Offered\", fontsize=14)\n",
    "plt.xlabel(\"Number of Restaurants\")\n",
    "plt.ylabel(\"Cuisine\")\n",
    "plt.tight_layout()\n",
    "plt.show()"
   ]
  },
  {
   "cell_type": "markdown",
   "id": "4171e342",
   "metadata": {},
   "source": [
    "# Explanation of Key Sections:\n",
    "\n",
    " Section\t                                         What It Does\n",
    "\n",
    " df.describe()\t                                 Gives a full overview of numeric columns (mean, std, min, max, etc.)\n",
    " df['City'].value_counts()                        Shows how many restaurants are there in each city\n",
    " df['Cuisines'].value_counts()\t                 Shows the frequency of each type of cuisine\n",
    " plt.barplot()\t                                 Plots the top cities and cuisines in an easy-to-read format"
   ]
  }
 ],
 "metadata": {
  "kernelspec": {
   "display_name": "Python 3 (ipykernel)",
   "language": "python",
   "name": "python3"
  },
  "language_info": {
   "codemirror_mode": {
    "name": "ipython",
    "version": 3
   },
   "file_extension": ".py",
   "mimetype": "text/x-python",
   "name": "python",
   "nbconvert_exporter": "python",
   "pygments_lexer": "ipython3",
   "version": "3.9.13"
  }
 },
 "nbformat": 4,
 "nbformat_minor": 5
}
