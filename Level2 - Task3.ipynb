{
 "cells": [
  {
   "cell_type": "markdown",
   "id": "c744ee13",
   "metadata": {},
   "source": [
    "# Task: Feature Engineering\n",
    "\n",
    "Extract additional features from the existing\n",
    "columns, such as the length of the restaurant\n",
    "name or address.\n",
    "\n",
    "Create new features like \"Has Table Booking\"\n",
    "or \"Has Online Delivery\" by encoding\n",
    "categorical variables."
   ]
  },
  {
   "cell_type": "markdown",
   "id": "ef071284",
   "metadata": {},
   "source": [
    "# Step 1: \n",
    "  Import Libraries and Load Data"
   ]
  },
  {
   "cell_type": "code",
   "execution_count": 2,
   "id": "6e922adb",
   "metadata": {},
   "outputs": [],
   "source": [
    "import pandas as pd\n",
    "\n",
    "# Load your cleaned dataset\n",
    "df = pd.read_csv(r\"C:\\Users\\HP\\Downloads\\Dataset_cleaned .csv\")"
   ]
  },
  {
   "cell_type": "markdown",
   "id": "20cb0aea",
   "metadata": {},
   "source": [
    "# Step 2: \n",
    "  Understand Existing Columns"
   ]
  },
  {
   "cell_type": "code",
   "execution_count": 2,
   "id": "9f326bc7",
   "metadata": {},
   "outputs": [
    {
     "name": "stdout",
     "output_type": "stream",
     "text": [
      "Index(['Restaurant ID', 'Restaurant Name', 'Country Code', 'City', 'Address',\n",
      "       'Locality', 'Locality Verbose', 'Longitude', 'Latitude', 'Cuisines',\n",
      "       'Average Cost for two', 'Currency', 'Has Table booking',\n",
      "       'Has Online delivery', 'Is delivering now', 'Switch to order menu',\n",
      "       'Price range', 'Aggregate rating', 'Rating color', 'Rating text',\n",
      "       'Votes'],\n",
      "      dtype='object')\n",
      "   Restaurant ID         Restaurant Name  Country Code              City  \\\n",
      "0        6317637        Le Petit Souffle           162       Makati City   \n",
      "1        6304287        Izakaya Kikufuji           162       Makati City   \n",
      "2        6300002  Heat - Edsa Shangri-La           162  Mandaluyong City   \n",
      "3        6318506                    Ooma           162  Mandaluyong City   \n",
      "4        6314302             Sambo Kojin           162  Mandaluyong City   \n",
      "\n",
      "                                             Address  \\\n",
      "0  Third Floor, Century City Mall, Kalayaan Avenu...   \n",
      "1  Little Tokyo, 2277 Chino Roces Avenue, Legaspi...   \n",
      "2  Edsa Shangri-La, 1 Garden Way, Ortigas, Mandal...   \n",
      "3  Third Floor, Mega Fashion Hall, SM Megamall, O...   \n",
      "4  Third Floor, Mega Atrium, SM Megamall, Ortigas...   \n",
      "\n",
      "                                     Locality  \\\n",
      "0   Century City Mall, Poblacion, Makati City   \n",
      "1  Little Tokyo, Legaspi Village, Makati City   \n",
      "2  Edsa Shangri-La, Ortigas, Mandaluyong City   \n",
      "3      SM Megamall, Ortigas, Mandaluyong City   \n",
      "4      SM Megamall, Ortigas, Mandaluyong City   \n",
      "\n",
      "                                    Locality Verbose   Longitude   Latitude  \\\n",
      "0  Century City Mall, Poblacion, Makati City, Mak...  121.027535  14.565443   \n",
      "1  Little Tokyo, Legaspi Village, Makati City, Ma...  121.014101  14.553708   \n",
      "2  Edsa Shangri-La, Ortigas, Mandaluyong City, Ma...  121.056831  14.581404   \n",
      "3  SM Megamall, Ortigas, Mandaluyong City, Mandal...  121.056475  14.585318   \n",
      "4  SM Megamall, Ortigas, Mandaluyong City, Mandal...  121.057508  14.584450   \n",
      "\n",
      "                           Cuisines  ...          Currency Has Table booking  \\\n",
      "0        French, Japanese, Desserts  ...  Botswana Pula(P)               Yes   \n",
      "1                          Japanese  ...  Botswana Pula(P)               Yes   \n",
      "2  Seafood, Asian, Filipino, Indian  ...  Botswana Pula(P)               Yes   \n",
      "3                   Japanese, Sushi  ...  Botswana Pula(P)                No   \n",
      "4                  Japanese, Korean  ...  Botswana Pula(P)               Yes   \n",
      "\n",
      "  Has Online delivery Is delivering now Switch to order menu Price range  \\\n",
      "0                  No                No                   No           3   \n",
      "1                  No                No                   No           3   \n",
      "2                  No                No                   No           4   \n",
      "3                  No                No                   No           4   \n",
      "4                  No                No                   No           4   \n",
      "\n",
      "   Aggregate rating  Rating color Rating text Votes  \n",
      "0               4.8    Dark Green   Excellent   314  \n",
      "1               4.5    Dark Green   Excellent   591  \n",
      "2               4.4         Green   Very Good   270  \n",
      "3               4.9    Dark Green   Excellent   365  \n",
      "4               4.8    Dark Green   Excellent   229  \n",
      "\n",
      "[5 rows x 21 columns]\n"
     ]
    }
   ],
   "source": [
    "# Check available columns\n",
    "print(df.columns)\n",
    "\n",
    "# Preview first few rows\n",
    "print(df.head())"
   ]
  },
  {
   "cell_type": "markdown",
   "id": "fca8eeca",
   "metadata": {},
   "source": [
    "# 🔍 Check for these important columns:\n",
    "\n",
    "'Restaurant Name'\n",
    "\n",
    "'Address'\n",
    "\n",
    "'Has Table booking'\n",
    "\n",
    "'Has Online delivery'"
   ]
  },
  {
   "cell_type": "markdown",
   "id": "41a26732",
   "metadata": {},
   "source": [
    "# Step 3: \n",
    "  Create New Text-Based Features"
   ]
  },
  {
   "cell_type": "markdown",
   "id": "9c12a564",
   "metadata": {},
   "source": [
    "3.1. Length of the Restaurant Name"
   ]
  },
  {
   "cell_type": "code",
   "execution_count": 3,
   "id": "e0340319",
   "metadata": {},
   "outputs": [
    {
     "name": "stdout",
     "output_type": "stream",
     "text": [
      "          Restaurant Name  Name Length\n",
      "0        Le Petit Souffle           16\n",
      "1        Izakaya Kikufuji           16\n",
      "2  Heat - Edsa Shangri-La           22\n",
      "3                    Ooma            4\n",
      "4             Sambo Kojin           11\n"
     ]
    }
   ],
   "source": [
    "import pandas as pd\n",
    "\n",
    "# Step 1: Load the data\n",
    "df = pd.read_csv(r\"C:\\Users\\HP\\Downloads\\Dataset_cleaned .csv\")\n",
    "\n",
    "# Step 2: Create a new feature\n",
    "df['Name Length'] = df['Restaurant Name'].apply(len)\n",
    "\n",
    "# Step 3: Check it\n",
    "print(df[['Restaurant Name', 'Name Length']].head())"
   ]
  },
  {
   "cell_type": "markdown",
   "id": "2aabeedb",
   "metadata": {},
   "source": [
    "3.2. Length of the Address"
   ]
  },
  {
   "cell_type": "code",
   "execution_count": 2,
   "id": "97838d42",
   "metadata": {},
   "outputs": [
    {
     "name": "stdout",
     "output_type": "stream",
     "text": [
      "                                             Address  Address Length\n",
      "0  Third Floor, Century City Mall, Kalayaan Avenu...              71\n",
      "1  Little Tokyo, 2277 Chino Roces Avenue, Legaspi...              67\n",
      "2  Edsa Shangri-La, 1 Garden Way, Ortigas, Mandal...              56\n",
      "3  Third Floor, Mega Fashion Hall, SM Megamall, O...              70\n",
      "4  Third Floor, Mega Atrium, SM Megamall, Ortigas...              64\n"
     ]
    }
   ],
   "source": [
    "import pandas as pd\n",
    "\n",
    "# Step 1: Load the data\n",
    "df = pd.read_csv(r\"C:\\Users\\HP\\Downloads\\Dataset_cleaned .csv\")\n",
    "\n",
    "# Step 2: Create the feature\n",
    "df['Address Length'] = df['Address'].apply(len)\n",
    "\n",
    "# Step 3: Check the output\n",
    "print(df[['Address', 'Address Length']].head())\n"
   ]
  },
  {
   "cell_type": "markdown",
   "id": "baffd97f",
   "metadata": {},
   "source": [
    "# Step 4: \n",
    "  Encode Categorical Variables as Binary Features"
   ]
  },
  {
   "cell_type": "markdown",
   "id": "86ba42a4",
   "metadata": {},
   "source": [
    "These columns likely contain 'Yes' or 'No' values."
   ]
  },
  {
   "cell_type": "markdown",
   "id": "df22a5db",
   "metadata": {},
   "source": [
    "4.1. Has Table Booking (1 = Yes, 0 = No)"
   ]
  },
  {
   "cell_type": "code",
   "execution_count": 2,
   "id": "de5f8e0f",
   "metadata": {},
   "outputs": [
    {
     "name": "stdout",
     "output_type": "stream",
     "text": [
      "  Has Table booking  Has Table Booking\n",
      "0               Yes                  1\n",
      "1               Yes                  1\n",
      "2               Yes                  1\n",
      "3                No                  0\n",
      "4               Yes                  1\n"
     ]
    }
   ],
   "source": [
    "import pandas as pd\n",
    "\n",
    "# Step 1: Load the dataset\n",
    "df = pd.read_csv(r\"C:\\Users\\HP\\Downloads\\Dataset_cleaned .csv\")\n",
    "\n",
    "# Step 2: Clean column names (optional but recommended)\n",
    "df.columns = df.columns.str.strip()\n",
    "\n",
    "# Step 3: Encode 'Has Table booking'\n",
    "df['Has Table Booking'] = df['Has Table booking'].apply(lambda x: 1 if x == 'Yes' else 0)\n",
    "\n",
    "# Step 4: Preview the result\n",
    "print(df[['Has Table booking', 'Has Table Booking']].head())\n"
   ]
  },
  {
   "cell_type": "markdown",
   "id": "2cae4a50",
   "metadata": {},
   "source": [
    "4.2. Has Online Delivery (1 = Yes, 0 = No)"
   ]
  },
  {
   "cell_type": "code",
   "execution_count": 2,
   "id": "74dbe6f1",
   "metadata": {},
   "outputs": [
    {
     "name": "stdout",
     "output_type": "stream",
     "text": [
      "  Has Online delivery  Has Online Delivery\n",
      "0                  No                    0\n",
      "1                  No                    0\n",
      "2                  No                    0\n",
      "3                  No                    0\n",
      "4                  No                    0\n"
     ]
    }
   ],
   "source": [
    "import pandas as pd\n",
    "\n",
    "# Step 1: Load the dataset\n",
    "df = pd.read_csv(r\"C:\\Users\\HP\\Downloads\\Dataset_cleaned .csv\")\n",
    "\n",
    "# Step 2: Optional – Strip spaces from column names to avoid typing issues\n",
    "df.columns = df.columns.str.strip()\n",
    "\n",
    "# Step 3: Create 'Has Online Delivery' feature (1 = Yes, 0 = No)\n",
    "df['Has Online Delivery'] = df['Has Online delivery'].apply(lambda x: 1 if x == 'Yes' else 0)\n",
    "\n",
    "# Step 4: Check result\n",
    "print(df[['Has Online delivery', 'Has Online Delivery']].head())"
   ]
  },
  {
   "cell_type": "markdown",
   "id": "0a89b16e",
   "metadata": {},
   "source": [
    "✅ This converts the text into binary numeric features, which are useful for machine learning models."
   ]
  },
  {
   "cell_type": "markdown",
   "id": "ca83a4e8",
   "metadata": {},
   "source": [
    "# Step 5: \n",
    "  Check the New Features"
   ]
  },
  {
   "cell_type": "code",
   "execution_count": 4,
   "id": "75f60ecb",
   "metadata": {},
   "outputs": [
    {
     "name": "stdout",
     "output_type": "stream",
     "text": [
      "          Restaurant Name  Name Length  \\\n",
      "0        Le Petit Souffle           16   \n",
      "1        Izakaya Kikufuji           16   \n",
      "2  Heat - Edsa Shangri-La           22   \n",
      "3                    Ooma            4   \n",
      "4             Sambo Kojin           11   \n",
      "\n",
      "                                             Address  Address Length  \\\n",
      "0  Third Floor, Century City Mall, Kalayaan Avenu...              71   \n",
      "1  Little Tokyo, 2277 Chino Roces Avenue, Legaspi...              67   \n",
      "2  Edsa Shangri-La, 1 Garden Way, Ortigas, Mandal...              56   \n",
      "3  Third Floor, Mega Fashion Hall, SM Megamall, O...              70   \n",
      "4  Third Floor, Mega Atrium, SM Megamall, Ortigas...              64   \n",
      "\n",
      "  Has Table booking  Has Table Booking Has Online delivery  \\\n",
      "0               Yes                  1                  No   \n",
      "1               Yes                  1                  No   \n",
      "2               Yes                  1                  No   \n",
      "3                No                  0                  No   \n",
      "4               Yes                  1                  No   \n",
      "\n",
      "   Has Online Delivery  \n",
      "0                    0  \n",
      "1                    0  \n",
      "2                    0  \n",
      "3                    0  \n",
      "4                    0  \n"
     ]
    }
   ],
   "source": [
    "import pandas as pd\n",
    "\n",
    "# Step 1: Load the dataset\n",
    "df = pd.read_csv(r\"C:\\Users\\HP\\Downloads\\Dataset_cleaned .csv\")\n",
    "\n",
    "# Step 2: Clean column names (removes extra spaces)\n",
    "df.columns = df.columns.str.strip()\n",
    "\n",
    "# Step 3: Create new features\n",
    "df['Name Length'] = df['Restaurant Name'].apply(len)\n",
    "df['Address Length'] = df['Address'].apply(len)\n",
    "df['Has Table Booking'] = df['Has Table booking'].apply(lambda x: 1 if x == 'Yes' else 0)\n",
    "df['Has Online Delivery'] = df['Has Online delivery'].apply(lambda x: 1 if x == 'Yes' else 0)\n",
    "\n",
    "# Step 4: Display all new features\n",
    "print(df[['Restaurant Name', 'Name Length',\n",
    "          'Address', 'Address Length',\n",
    "          'Has Table booking', 'Has Table Booking',\n",
    "          'Has Online delivery', 'Has Online Delivery']].head())\n"
   ]
  },
  {
   "cell_type": "markdown",
   "id": "8c13a3c0",
   "metadata": {},
   "source": [
    "# Final Code (All Steps Together)"
   ]
  },
  {
   "cell_type": "code",
   "execution_count": 5,
   "id": "dee48c12",
   "metadata": {},
   "outputs": [
    {
     "name": "stdout",
     "output_type": "stream",
     "text": [
      "Available Columns: Index(['Restaurant ID', 'Restaurant Name', 'Country Code', 'City', 'Address',\n",
      "       'Locality', 'Locality Verbose', 'Longitude', 'Latitude', 'Cuisines',\n",
      "       'Average Cost for two', 'Currency', 'Has Table booking',\n",
      "       'Has Online delivery', 'Is delivering now', 'Switch to order menu',\n",
      "       'Price range', 'Aggregate rating', 'Rating color', 'Rating text',\n",
      "       'Votes'],\n",
      "      dtype='object')\n",
      "   Restaurant ID         Restaurant Name  Country Code              City  \\\n",
      "0        6317637        Le Petit Souffle           162       Makati City   \n",
      "1        6304287        Izakaya Kikufuji           162       Makati City   \n",
      "2        6300002  Heat - Edsa Shangri-La           162  Mandaluyong City   \n",
      "3        6318506                    Ooma           162  Mandaluyong City   \n",
      "4        6314302             Sambo Kojin           162  Mandaluyong City   \n",
      "\n",
      "                                             Address  \\\n",
      "0  Third Floor, Century City Mall, Kalayaan Avenu...   \n",
      "1  Little Tokyo, 2277 Chino Roces Avenue, Legaspi...   \n",
      "2  Edsa Shangri-La, 1 Garden Way, Ortigas, Mandal...   \n",
      "3  Third Floor, Mega Fashion Hall, SM Megamall, O...   \n",
      "4  Third Floor, Mega Atrium, SM Megamall, Ortigas...   \n",
      "\n",
      "                                     Locality  \\\n",
      "0   Century City Mall, Poblacion, Makati City   \n",
      "1  Little Tokyo, Legaspi Village, Makati City   \n",
      "2  Edsa Shangri-La, Ortigas, Mandaluyong City   \n",
      "3      SM Megamall, Ortigas, Mandaluyong City   \n",
      "4      SM Megamall, Ortigas, Mandaluyong City   \n",
      "\n",
      "                                    Locality Verbose   Longitude   Latitude  \\\n",
      "0  Century City Mall, Poblacion, Makati City, Mak...  121.027535  14.565443   \n",
      "1  Little Tokyo, Legaspi Village, Makati City, Ma...  121.014101  14.553708   \n",
      "2  Edsa Shangri-La, Ortigas, Mandaluyong City, Ma...  121.056831  14.581404   \n",
      "3  SM Megamall, Ortigas, Mandaluyong City, Mandal...  121.056475  14.585318   \n",
      "4  SM Megamall, Ortigas, Mandaluyong City, Mandal...  121.057508  14.584450   \n",
      "\n",
      "                           Cuisines  ...          Currency Has Table booking  \\\n",
      "0        French, Japanese, Desserts  ...  Botswana Pula(P)               Yes   \n",
      "1                          Japanese  ...  Botswana Pula(P)               Yes   \n",
      "2  Seafood, Asian, Filipino, Indian  ...  Botswana Pula(P)               Yes   \n",
      "3                   Japanese, Sushi  ...  Botswana Pula(P)                No   \n",
      "4                  Japanese, Korean  ...  Botswana Pula(P)               Yes   \n",
      "\n",
      "  Has Online delivery Is delivering now Switch to order menu Price range  \\\n",
      "0                  No                No                   No           3   \n",
      "1                  No                No                   No           3   \n",
      "2                  No                No                   No           4   \n",
      "3                  No                No                   No           4   \n",
      "4                  No                No                   No           4   \n",
      "\n",
      "   Aggregate rating  Rating color Rating text Votes  \n",
      "0               4.8    Dark Green   Excellent   314  \n",
      "1               4.5    Dark Green   Excellent   591  \n",
      "2               4.4         Green   Very Good   270  \n",
      "3               4.9    Dark Green   Excellent   365  \n",
      "4               4.8    Dark Green   Excellent   229  \n",
      "\n",
      "[5 rows x 21 columns]\n",
      "\n",
      "✅ New Features:\n",
      "          Restaurant Name  Name Length  \\\n",
      "0        Le Petit Souffle           16   \n",
      "1        Izakaya Kikufuji           16   \n",
      "2  Heat - Edsa Shangri-La           22   \n",
      "3                    Ooma            4   \n",
      "4             Sambo Kojin           11   \n",
      "\n",
      "                                             Address  Address Length  \\\n",
      "0  Third Floor, Century City Mall, Kalayaan Avenu...              71   \n",
      "1  Little Tokyo, 2277 Chino Roces Avenue, Legaspi...              67   \n",
      "2  Edsa Shangri-La, 1 Garden Way, Ortigas, Mandal...              56   \n",
      "3  Third Floor, Mega Fashion Hall, SM Megamall, O...              70   \n",
      "4  Third Floor, Mega Atrium, SM Megamall, Ortigas...              64   \n",
      "\n",
      "  Has Table booking  Has Table Booking Has Online delivery  \\\n",
      "0               Yes                  1                  No   \n",
      "1               Yes                  1                  No   \n",
      "2               Yes                  1                  No   \n",
      "3                No                  0                  No   \n",
      "4               Yes                  1                  No   \n",
      "\n",
      "   Has Online Delivery  \n",
      "0                    0  \n",
      "1                    0  \n",
      "2                    0  \n",
      "3                    0  \n",
      "4                    0  \n"
     ]
    }
   ],
   "source": [
    "import pandas as pd\n",
    "\n",
    "# Step 1: Load data\n",
    "df = pd.read_csv(r\"C:\\Users\\HP\\Downloads\\Dataset_cleaned .csv\")\n",
    "\n",
    "# Step 2: Preview data\n",
    "print(\"Available Columns:\", df.columns)\n",
    "print(df.head())\n",
    "\n",
    "# Step 3: Create text length features\n",
    "df['Name Length'] = df['Restaurant Name'].apply(len)\n",
    "df['Address Length'] = df['Address'].apply(len)\n",
    "\n",
    "# Step 4: Encode categorical variables\n",
    "df['Has Table Booking'] = df['Has Table booking'].apply(lambda x: 1 if x == 'Yes' else 0)\n",
    "df['Has Online Delivery'] = df['Has Online delivery'].apply(lambda x: 1 if x == 'Yes' else 0)\n",
    "\n",
    "# Step 5: Preview new features\n",
    "print(\"\\n✅ New Features:\")\n",
    "print(df[['Restaurant Name', 'Name Length', 'Address', 'Address Length',\n",
    "          'Has Table booking', 'Has Table Booking',\n",
    "          'Has Online delivery', 'Has Online Delivery']].head())\n"
   ]
  }
 ],
 "metadata": {
  "kernelspec": {
   "display_name": "Python 3 (ipykernel)",
   "language": "python",
   "name": "python3"
  },
  "language_info": {
   "codemirror_mode": {
    "name": "ipython",
    "version": 3
   },
   "file_extension": ".py",
   "mimetype": "text/x-python",
   "name": "python",
   "nbconvert_exporter": "python",
   "pygments_lexer": "ipython3",
   "version": "3.9.13"
  }
 },
 "nbformat": 4,
 "nbformat_minor": 5
}
