{
 "cells": [
  {
   "cell_type": "markdown",
   "id": "f56e0dbf",
   "metadata": {},
   "source": [
    "# Task: Table Booking and Online Delivery\n",
    "\n",
    "Determine the percentage of restaurants that\n",
    "offer table booking and online delivery.\n",
    "\n",
    "Compare the average ratings of restaurants\n",
    "with table booking and those without.\n",
    "\n",
    "Analyze the availability of online delivery\n",
    "among restaurants with different price ranges."
   ]
  },
  {
   "cell_type": "markdown",
   "id": "a256553d",
   "metadata": {},
   "source": [
    "# Step 1: \n",
    "   Load Your Dataset"
   ]
  },
  {
   "cell_type": "code",
   "execution_count": 1,
   "id": "d33c4d21",
   "metadata": {},
   "outputs": [
    {
     "data": {
      "text/html": [
       "<div>\n",
       "<style scoped>\n",
       "    .dataframe tbody tr th:only-of-type {\n",
       "        vertical-align: middle;\n",
       "    }\n",
       "\n",
       "    .dataframe tbody tr th {\n",
       "        vertical-align: top;\n",
       "    }\n",
       "\n",
       "    .dataframe thead th {\n",
       "        text-align: right;\n",
       "    }\n",
       "</style>\n",
       "<table border=\"1\" class=\"dataframe\">\n",
       "  <thead>\n",
       "    <tr style=\"text-align: right;\">\n",
       "      <th></th>\n",
       "      <th>Restaurant ID</th>\n",
       "      <th>Restaurant Name</th>\n",
       "      <th>Country Code</th>\n",
       "      <th>City</th>\n",
       "      <th>Address</th>\n",
       "      <th>Locality</th>\n",
       "      <th>Locality Verbose</th>\n",
       "      <th>Longitude</th>\n",
       "      <th>Latitude</th>\n",
       "      <th>Cuisines</th>\n",
       "      <th>...</th>\n",
       "      <th>Currency</th>\n",
       "      <th>Has Table booking</th>\n",
       "      <th>Has Online delivery</th>\n",
       "      <th>Is delivering now</th>\n",
       "      <th>Switch to order menu</th>\n",
       "      <th>Price range</th>\n",
       "      <th>Aggregate rating</th>\n",
       "      <th>Rating color</th>\n",
       "      <th>Rating text</th>\n",
       "      <th>Votes</th>\n",
       "    </tr>\n",
       "  </thead>\n",
       "  <tbody>\n",
       "    <tr>\n",
       "      <th>0</th>\n",
       "      <td>6317637</td>\n",
       "      <td>Le Petit Souffle</td>\n",
       "      <td>162</td>\n",
       "      <td>Makati City</td>\n",
       "      <td>Third Floor, Century City Mall, Kalayaan Avenu...</td>\n",
       "      <td>Century City Mall, Poblacion, Makati City</td>\n",
       "      <td>Century City Mall, Poblacion, Makati City, Mak...</td>\n",
       "      <td>121.027535</td>\n",
       "      <td>14.565443</td>\n",
       "      <td>French, Japanese, Desserts</td>\n",
       "      <td>...</td>\n",
       "      <td>Botswana Pula(P)</td>\n",
       "      <td>Yes</td>\n",
       "      <td>No</td>\n",
       "      <td>No</td>\n",
       "      <td>No</td>\n",
       "      <td>3</td>\n",
       "      <td>4.8</td>\n",
       "      <td>Dark Green</td>\n",
       "      <td>Excellent</td>\n",
       "      <td>314</td>\n",
       "    </tr>\n",
       "    <tr>\n",
       "      <th>1</th>\n",
       "      <td>6304287</td>\n",
       "      <td>Izakaya Kikufuji</td>\n",
       "      <td>162</td>\n",
       "      <td>Makati City</td>\n",
       "      <td>Little Tokyo, 2277 Chino Roces Avenue, Legaspi...</td>\n",
       "      <td>Little Tokyo, Legaspi Village, Makati City</td>\n",
       "      <td>Little Tokyo, Legaspi Village, Makati City, Ma...</td>\n",
       "      <td>121.014101</td>\n",
       "      <td>14.553708</td>\n",
       "      <td>Japanese</td>\n",
       "      <td>...</td>\n",
       "      <td>Botswana Pula(P)</td>\n",
       "      <td>Yes</td>\n",
       "      <td>No</td>\n",
       "      <td>No</td>\n",
       "      <td>No</td>\n",
       "      <td>3</td>\n",
       "      <td>4.5</td>\n",
       "      <td>Dark Green</td>\n",
       "      <td>Excellent</td>\n",
       "      <td>591</td>\n",
       "    </tr>\n",
       "    <tr>\n",
       "      <th>2</th>\n",
       "      <td>6300002</td>\n",
       "      <td>Heat - Edsa Shangri-La</td>\n",
       "      <td>162</td>\n",
       "      <td>Mandaluyong City</td>\n",
       "      <td>Edsa Shangri-La, 1 Garden Way, Ortigas, Mandal...</td>\n",
       "      <td>Edsa Shangri-La, Ortigas, Mandaluyong City</td>\n",
       "      <td>Edsa Shangri-La, Ortigas, Mandaluyong City, Ma...</td>\n",
       "      <td>121.056831</td>\n",
       "      <td>14.581404</td>\n",
       "      <td>Seafood, Asian, Filipino, Indian</td>\n",
       "      <td>...</td>\n",
       "      <td>Botswana Pula(P)</td>\n",
       "      <td>Yes</td>\n",
       "      <td>No</td>\n",
       "      <td>No</td>\n",
       "      <td>No</td>\n",
       "      <td>4</td>\n",
       "      <td>4.4</td>\n",
       "      <td>Green</td>\n",
       "      <td>Very Good</td>\n",
       "      <td>270</td>\n",
       "    </tr>\n",
       "    <tr>\n",
       "      <th>3</th>\n",
       "      <td>6318506</td>\n",
       "      <td>Ooma</td>\n",
       "      <td>162</td>\n",
       "      <td>Mandaluyong City</td>\n",
       "      <td>Third Floor, Mega Fashion Hall, SM Megamall, O...</td>\n",
       "      <td>SM Megamall, Ortigas, Mandaluyong City</td>\n",
       "      <td>SM Megamall, Ortigas, Mandaluyong City, Mandal...</td>\n",
       "      <td>121.056475</td>\n",
       "      <td>14.585318</td>\n",
       "      <td>Japanese, Sushi</td>\n",
       "      <td>...</td>\n",
       "      <td>Botswana Pula(P)</td>\n",
       "      <td>No</td>\n",
       "      <td>No</td>\n",
       "      <td>No</td>\n",
       "      <td>No</td>\n",
       "      <td>4</td>\n",
       "      <td>4.9</td>\n",
       "      <td>Dark Green</td>\n",
       "      <td>Excellent</td>\n",
       "      <td>365</td>\n",
       "    </tr>\n",
       "    <tr>\n",
       "      <th>4</th>\n",
       "      <td>6314302</td>\n",
       "      <td>Sambo Kojin</td>\n",
       "      <td>162</td>\n",
       "      <td>Mandaluyong City</td>\n",
       "      <td>Third Floor, Mega Atrium, SM Megamall, Ortigas...</td>\n",
       "      <td>SM Megamall, Ortigas, Mandaluyong City</td>\n",
       "      <td>SM Megamall, Ortigas, Mandaluyong City, Mandal...</td>\n",
       "      <td>121.057508</td>\n",
       "      <td>14.584450</td>\n",
       "      <td>Japanese, Korean</td>\n",
       "      <td>...</td>\n",
       "      <td>Botswana Pula(P)</td>\n",
       "      <td>Yes</td>\n",
       "      <td>No</td>\n",
       "      <td>No</td>\n",
       "      <td>No</td>\n",
       "      <td>4</td>\n",
       "      <td>4.8</td>\n",
       "      <td>Dark Green</td>\n",
       "      <td>Excellent</td>\n",
       "      <td>229</td>\n",
       "    </tr>\n",
       "  </tbody>\n",
       "</table>\n",
       "<p>5 rows × 21 columns</p>\n",
       "</div>"
      ],
      "text/plain": [
       "   Restaurant ID         Restaurant Name  Country Code              City  \\\n",
       "0        6317637        Le Petit Souffle           162       Makati City   \n",
       "1        6304287        Izakaya Kikufuji           162       Makati City   \n",
       "2        6300002  Heat - Edsa Shangri-La           162  Mandaluyong City   \n",
       "3        6318506                    Ooma           162  Mandaluyong City   \n",
       "4        6314302             Sambo Kojin           162  Mandaluyong City   \n",
       "\n",
       "                                             Address  \\\n",
       "0  Third Floor, Century City Mall, Kalayaan Avenu...   \n",
       "1  Little Tokyo, 2277 Chino Roces Avenue, Legaspi...   \n",
       "2  Edsa Shangri-La, 1 Garden Way, Ortigas, Mandal...   \n",
       "3  Third Floor, Mega Fashion Hall, SM Megamall, O...   \n",
       "4  Third Floor, Mega Atrium, SM Megamall, Ortigas...   \n",
       "\n",
       "                                     Locality  \\\n",
       "0   Century City Mall, Poblacion, Makati City   \n",
       "1  Little Tokyo, Legaspi Village, Makati City   \n",
       "2  Edsa Shangri-La, Ortigas, Mandaluyong City   \n",
       "3      SM Megamall, Ortigas, Mandaluyong City   \n",
       "4      SM Megamall, Ortigas, Mandaluyong City   \n",
       "\n",
       "                                    Locality Verbose   Longitude   Latitude  \\\n",
       "0  Century City Mall, Poblacion, Makati City, Mak...  121.027535  14.565443   \n",
       "1  Little Tokyo, Legaspi Village, Makati City, Ma...  121.014101  14.553708   \n",
       "2  Edsa Shangri-La, Ortigas, Mandaluyong City, Ma...  121.056831  14.581404   \n",
       "3  SM Megamall, Ortigas, Mandaluyong City, Mandal...  121.056475  14.585318   \n",
       "4  SM Megamall, Ortigas, Mandaluyong City, Mandal...  121.057508  14.584450   \n",
       "\n",
       "                           Cuisines  ...          Currency Has Table booking  \\\n",
       "0        French, Japanese, Desserts  ...  Botswana Pula(P)               Yes   \n",
       "1                          Japanese  ...  Botswana Pula(P)               Yes   \n",
       "2  Seafood, Asian, Filipino, Indian  ...  Botswana Pula(P)               Yes   \n",
       "3                   Japanese, Sushi  ...  Botswana Pula(P)                No   \n",
       "4                  Japanese, Korean  ...  Botswana Pula(P)               Yes   \n",
       "\n",
       "  Has Online delivery Is delivering now Switch to order menu Price range  \\\n",
       "0                  No                No                   No           3   \n",
       "1                  No                No                   No           3   \n",
       "2                  No                No                   No           4   \n",
       "3                  No                No                   No           4   \n",
       "4                  No                No                   No           4   \n",
       "\n",
       "   Aggregate rating  Rating color Rating text Votes  \n",
       "0               4.8    Dark Green   Excellent   314  \n",
       "1               4.5    Dark Green   Excellent   591  \n",
       "2               4.4         Green   Very Good   270  \n",
       "3               4.9    Dark Green   Excellent   365  \n",
       "4               4.8    Dark Green   Excellent   229  \n",
       "\n",
       "[5 rows x 21 columns]"
      ]
     },
     "execution_count": 1,
     "metadata": {},
     "output_type": "execute_result"
    }
   ],
   "source": [
    "import pandas as pd\n",
    "\n",
    "# Load dataset\n",
    "df = pd.read_csv(r\"C:\\Users\\HP\\Downloads\\Dataset_cleaned .csv\")\n",
    "\n",
    "# Check first few rows\n",
    "df.head()"
   ]
  },
  {
   "cell_type": "markdown",
   "id": "094586b2",
   "metadata": {},
   "source": [
    "Explanation: This loads a cleaned dataset into a DataFrame called df."
   ]
  },
  {
   "cell_type": "markdown",
   "id": "1bac424c",
   "metadata": {},
   "source": [
    "# Step 2: \n",
    "Percentage of Restaurants with Table Booking and Online Delivery"
   ]
  },
  {
   "cell_type": "code",
   "execution_count": 2,
   "id": "544b4335",
   "metadata": {},
   "outputs": [
    {
     "name": "stdout",
     "output_type": "stream",
     "text": [
      "📌 Table Booking (%):\n",
      " No     87.875615\n",
      "Yes    12.124385\n",
      "Name: Has Table booking, dtype: float64\n",
      "\n",
      "📌 Online Delivery (%):\n",
      " No     99.644016\n",
      "Yes     0.355984\n",
      "Name: Is delivering now, dtype: float64\n"
     ]
    }
   ],
   "source": [
    "# Table Booking\n",
    "table_booking_percent = df['Has Table booking'].value_counts(normalize=True) * 100\n",
    "\n",
    "# Online Delivery\n",
    "online_delivery_percent = df['Is delivering now'].value_counts(normalize=True) * 100\n",
    "\n",
    "# Display both\n",
    "print(\"📌 Table Booking (%):\\n\", table_booking_percent)\n",
    "print(\"\\n📌 Online Delivery (%):\\n\", online_delivery_percent)"
   ]
  },
  {
   "cell_type": "markdown",
   "id": "b91bcaa1",
   "metadata": {},
   "source": [
    "Explanation:\n",
    "\n",
    "value_counts(normalize=True) gives proportion.\n",
    "\n",
    "We multiply by 100 to get percentage."
   ]
  },
  {
   "cell_type": "markdown",
   "id": "ecb124e8",
   "metadata": {},
   "source": [
    "# Step 3: \n",
    "Compare Average Ratings — Table Booking vs No Table Booking"
   ]
  },
  {
   "cell_type": "code",
   "execution_count": 3,
   "id": "c816a2e3",
   "metadata": {},
   "outputs": [
    {
     "name": "stdout",
     "output_type": "stream",
     "text": [
      "📊 Average Rating:\n",
      " Has Table booking\n",
      "No     2.559359\n",
      "Yes    3.441969\n",
      "Name: Aggregate rating, dtype: float64\n"
     ]
    }
   ],
   "source": [
    "# Group by table booking status and get average rating\n",
    "avg_rating_table_booking = df.groupby('Has Table booking')['Aggregate rating'].mean()\n",
    "\n",
    "# Show result\n",
    "print(\"📊 Average Rating:\\n\", avg_rating_table_booking)"
   ]
  },
  {
   "cell_type": "markdown",
   "id": "3e430f66",
   "metadata": {},
   "source": [
    " Explanation:\n",
    "\n",
    "We group the data by \"Has Table booking\" and calculate the average rating in each group."
   ]
  },
  {
   "cell_type": "markdown",
   "id": "32be2ca5",
   "metadata": {},
   "source": [
    "# Step 4: \n",
    "Online Delivery Availability Across Price Ranges"
   ]
  },
  {
   "cell_type": "code",
   "execution_count": 4,
   "id": "839e7b06",
   "metadata": {},
   "outputs": [
    {
     "name": "stdout",
     "output_type": "stream",
     "text": [
      "📦 Online Delivery by Price Range:\n",
      " Is delivering now    No  Yes\n",
      "Price range                 \n",
      "1                  4437    7\n",
      "2                  3092   21\n",
      "3                  1402    6\n",
      "4                   586    0\n"
     ]
    }
   ],
   "source": [
    "# Group by price range and delivery status\n",
    "delivery_by_price = df.groupby(['Price range', 'Is delivering now']).size().unstack(fill_value=0)\n",
    "\n",
    "# Show result\n",
    "print(\"📦 Online Delivery by Price Range:\\n\", delivery_by_price)"
   ]
  },
  {
   "cell_type": "markdown",
   "id": "6d6f35f5",
   "metadata": {},
   "source": [
    "Explanation:\n",
    "\n",
    "Groups restaurants by both price range and delivery status.\n",
    "\n",
    "unstack() turns the results into a nice table for comparison."
   ]
  },
  {
   "cell_type": "markdown",
   "id": "c877c85d",
   "metadata": {},
   "source": [
    "# Step 4: \n",
    "   Optional Visualization "
   ]
  },
  {
   "cell_type": "code",
   "execution_count": 5,
   "id": "eda257fe",
   "metadata": {
    "scrolled": true
   },
   "outputs": [
    {
     "data": {
      "image/png": "[encoded data removed]",
      "text/plain": [
       "<Figure size 800x500 with 1 Axes>"
      ]
     },
     "metadata": {},
     "output_type": "display_data"
    }
   ],
   "source": [
    "import matplotlib.pyplot as plt\n",
    "\n",
    "# Plot stacked bar chart\n",
    "delivery_by_price.plot(kind='bar', stacked=True, figsize=(8, 5), colormap='Accent')\n",
    "plt.title(\"Online Delivery Availability by Price Range\")\n",
    "plt.xlabel(\"Price Range\")\n",
    "plt.ylabel(\"Number of Restaurants\")\n",
    "plt.legend(title='Online Delivery')\n",
    "plt.tight_layout()\n",
    "plt.show()"
   ]
  },
  {
   "cell_type": "markdown",
   "id": "f723e421",
   "metadata": {},
   "source": [
    "Explanation: This gives a visual comparison of how online delivery is available across different price levels."
   ]
  },
  {
   "cell_type": "markdown",
   "id": "2929eac5",
   "metadata": {},
   "source": [
    "#  Summary\n",
    "\n",
    "Step 2: Percentage of restaurants with table booking and online delivery\n",
    "➤ Output: Two percentages (one for table booking, one for online delivery)\n",
    "\n",
    "Step 3: Average rating comparison (with vs without table booking)\n",
    "➤ Output: Two average ratings (for restaurants with and without table booking)\n",
    "\n",
    "Step 4: Online delivery availability across price ranges\n",
    "➤ Output: A table showing counts per price range\n",
    "➤ (Optional): Stacked bar chart for visual comparison"
   ]
  }
 ],
 "metadata": {
  "kernelspec": {
   "display_name": "Python 3 (ipykernel)",
   "language": "python",
   "name": "python3"
  },
  "language_info": {
   "codemirror_mode": {
    "name": "ipython",
    "version": 3
   },
   "file_extension": ".py",
   "mimetype": "text/x-python",
   "name": "python",
   "nbconvert_exporter": "python",
   "pygments_lexer": "ipython3",
   "version": "3.9.13"
  }
 },
 "nbformat": 4,
 "nbformat_minor": 5
}
